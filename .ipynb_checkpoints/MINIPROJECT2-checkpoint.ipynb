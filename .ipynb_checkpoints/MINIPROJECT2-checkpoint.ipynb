{
 "cells": [
  {
   "cell_type": "code",
   "execution_count": 1,
   "metadata": {},
   "outputs": [
    {
     "name": "stdout",
     "output_type": "stream",
     "text": [
      "Type a name\n"
     ]
    },
    {
     "name": "stdin",
     "output_type": "stream",
     "text": [
      " maia\n"
     ]
    },
    {
     "name": "stdout",
     "output_type": "stream",
     "text": [
      "Type a party theme\n"
     ]
    },
    {
     "name": "stdin",
     "output_type": "stream",
     "text": [
      " tea\n"
     ]
    },
    {
     "name": "stdout",
     "output_type": "stream",
     "text": [
      "Type a place\n"
     ]
    },
    {
     "name": "stdin",
     "output_type": "stream",
     "text": [
      " home\n"
     ]
    },
    {
     "name": "stdout",
     "output_type": "stream",
     "text": [
      "Type a day of the week\n"
     ]
    },
    {
     "name": "stdin",
     "output_type": "stream",
     "text": [
      " thursday\n"
     ]
    },
    {
     "name": "stdout",
     "output_type": "stream",
     "text": [
      "Type a time\n"
     ]
    },
    {
     "name": "stdin",
     "output_type": "stream",
     "text": [
      " 7\n"
     ]
    },
    {
     "name": "stdout",
     "output_type": "stream",
     "text": [
      "Type a verb\n"
     ]
    },
    {
     "name": "stdin",
     "output_type": "stream",
     "text": [
      " acting\n"
     ]
    },
    {
     "name": "stdout",
     "output_type": "stream",
     "text": [
      "Type an animal\n"
     ]
    },
    {
     "name": "stdin",
     "output_type": "stream",
     "text": [
      " zebra\n"
     ]
    },
    {
     "name": "stdout",
     "output_type": "stream",
     "text": [
      "Type a body part\n"
     ]
    },
    {
     "name": "stdin",
     "output_type": "stream",
     "text": [
      " elbow\n"
     ]
    },
    {
     "name": "stdout",
     "output_type": "stream",
     "text": [
      "Type contact info\n"
     ]
    },
    {
     "name": "stdin",
     "output_type": "stream",
     "text": [
      " 911\n"
     ]
    },
    {
     "name": "stdout",
     "output_type": "stream",
     "text": [
      "Type a deadline date\n"
     ]
    },
    {
     "name": "stdin",
     "output_type": "stream",
     "text": [
      " 06/06\n"
     ]
    },
    {
     "name": "stdout",
     "output_type": "stream",
     "text": [
      "'maia' is having a 'tea' party! It's going to be at 'home' on 'thursday' at '7'. If you're not on time, you'll need to 'acting' a/an 'zebra' with your 'elbow'. RSVP at '911' by '06/06'.\n"
     ]
    }
   ],
   "source": [
    "print (\"Type a name\",)\n",
    "name = input()\n",
    "\n",
    "print (\"Type a party theme\",) \n",
    "theme = input()\n",
    "\n",
    "print (\"Type a place\",) \n",
    "place = input()\n",
    "\n",
    "print (\"Type a day of the week\",)\n",
    "day = input()\n",
    "\n",
    "print (\"Type a time\",) \n",
    "time = input()\n",
    "\n",
    "print (\"Type a verb\",)\n",
    "verb = input()\n",
    "\n",
    "print (\"Type an animal\",) \n",
    "animal = input()\n",
    "\n",
    "print (\"Type a body part\",) \n",
    "body = input()\n",
    "\n",
    "print (\"Type contact info\",) \n",
    "info = input()\n",
    "\n",
    "print (\"Type a deadline date\",)\n",
    "dead = input()\n",
    "\n",
    "print (\"%r is having a %r party! It's going to be at %r on %r at %r. If you're not on time, you'll need to %r a/an %r with your %r. RSVP at %r by %r.\" % (name, theme, place, day, time, verb, animal, body, info, dead))"
   ]
  },
  {
   "cell_type": "code",
   "execution_count": 2,
   "metadata": {},
   "outputs": [
    {
     "name": "stdout",
     "output_type": "stream",
     "text": [
      "Type a name\n"
     ]
    },
    {
     "name": "stdin",
     "output_type": "stream",
     "text": [
      " jose\n"
     ]
    },
    {
     "name": "stdout",
     "output_type": "stream",
     "text": [
      "Type a part of body\n"
     ]
    },
    {
     "name": "stdin",
     "output_type": "stream",
     "text": [
      " foot\n"
     ]
    },
    {
     "name": "stdout",
     "output_type": "stream",
     "text": [
      "Type a fluid\n"
     ]
    },
    {
     "name": "stdin",
     "output_type": "stream",
     "text": [
      " urine\n"
     ]
    },
    {
     "name": "stdout",
     "output_type": "stream",
     "text": [
      "Type a substance\n"
     ]
    },
    {
     "name": "stdin",
     "output_type": "stream",
     "text": [
      " cinnamon\n"
     ]
    },
    {
     "name": "stdout",
     "output_type": "stream",
     "text": [
      "'jose' is sick with the 'foot' flu. Drink more 'urine' and take 'cinnamon' as needed.\n"
     ]
    }
   ],
   "source": [
    "print (\"Type a name\",) \n",
    "name = input()\n",
    "\n",
    "print (\"Type a part of body\",) \n",
    "body = input()\n",
    "\n",
    "print (\"Type a fluid\",) \n",
    "fluid = input()\n",
    "\n",
    "print (\"Type a substance\",) \n",
    "subs = input()\n",
    "\n",
    "print (\"%r is sick with the %r flu. Drink more %r and take %r as needed.\" % (name, body, fluid, subs))"
   ]
  },
  {
   "cell_type": "code",
   "execution_count": 3,
   "metadata": {},
   "outputs": [
    {
     "name": "stdout",
     "output_type": "stream",
     "text": [
      "Type a name\n"
     ]
    },
    {
     "name": "stdin",
     "output_type": "stream",
     "text": [
      " tiffany\n"
     ]
    },
    {
     "name": "stdout",
     "output_type": "stream",
     "text": [
      "Type a noun\n"
     ]
    },
    {
     "name": "stdin",
     "output_type": "stream",
     "text": [
      " Paris\n"
     ]
    },
    {
     "name": "stdout",
     "output_type": "stream",
     "text": [
      "Type an event\n"
     ]
    },
    {
     "name": "stdin",
     "output_type": "stream",
     "text": [
      " 4th of July\n"
     ]
    },
    {
     "name": "stdout",
     "output_type": "stream",
     "text": [
      "Type a person\n"
     ]
    },
    {
     "name": "stdin",
     "output_type": "stream",
     "text": [
      " Kyrie Irving\n"
     ]
    },
    {
     "name": "stdout",
     "output_type": "stream",
     "text": [
      "'tiffany' is too cool for 'Paris' class. Instead, they'll be attending the '4th of July'. Thanks, 'Kyrie Irving'\n"
     ]
    }
   ],
   "source": [
    "print (\"Type a name\",) \n",
    "name = input()\n",
    "\n",
    "print (\"Type a noun\",) \n",
    "noun = input()\n",
    "\n",
    "print (\"Type an event\",) \n",
    "event = input()\n",
    "\n",
    "print (\"Type a person\",) \n",
    "person = input()\n",
    "\n",
    "print(\"%r is too cool for %r class. Instead, they'll be attending the %r. Thanks, %r\" % (name, noun, event, person))"
   ]
  },
  {
   "cell_type": "code",
   "execution_count": 4,
   "metadata": {},
   "outputs": [
    {
     "name": "stdout",
     "output_type": "stream",
     "text": [
      "Type a name\n"
     ]
    },
    {
     "name": "stdin",
     "output_type": "stream",
     "text": [
      " Howard\n"
     ]
    },
    {
     "name": "stdout",
     "output_type": "stream",
     "text": [
      "Type a plural noun\n"
     ]
    },
    {
     "name": "stdin",
     "output_type": "stream",
     "text": [
      " dogs\n"
     ]
    },
    {
     "name": "stdout",
     "output_type": "stream",
     "text": [
      "Type a plural noun\n"
     ]
    },
    {
     "name": "stdin",
     "output_type": "stream",
     "text": [
      " cats\n"
     ]
    },
    {
     "name": "stdout",
     "output_type": "stream",
     "text": [
      "Type a plural noun\n"
     ]
    },
    {
     "name": "stdin",
     "output_type": "stream",
     "text": [
      " humans\n"
     ]
    },
    {
     "name": "stdout",
     "output_type": "stream",
     "text": [
      "Type a name\n"
     ]
    },
    {
     "name": "stdin",
     "output_type": "stream",
     "text": [
      " paul\n"
     ]
    },
    {
     "name": "stdout",
     "output_type": "stream",
     "text": [
      "Dear 'Howard', roses are 'dogs', violets are 'cats', you love me and I love 'humans'! From 'paul'\n"
     ]
    }
   ],
   "source": [
    "print (\"Type a name\",) \n",
    "name1 = input()\n",
    "\n",
    "print (\"Type a plural noun\",) \n",
    "noun1 = input()\n",
    "\n",
    "print (\"Type a plural noun\",) \n",
    "noun2 = input()\n",
    "\n",
    "print (\"Type a plural noun\",) \n",
    "noun3 = input()\n",
    "\n",
    "print (\"Type a name\")\n",
    "name2= input()\n",
    "\n",
    "print(\"Dear %r, roses are %r, violets are %r, you love me and I love %r! From %r\" % (name1, noun1, noun2, noun3, name2))"
   ]
  },
  {
   "cell_type": "code",
   "execution_count": 5,
   "metadata": {},
   "outputs": [
    {
     "name": "stdout",
     "output_type": "stream",
     "text": [
      "Type an adjective\n"
     ]
    },
    {
     "name": "stdin",
     "output_type": "stream",
     "text": [
      " great\n"
     ]
    },
    {
     "name": "stdout",
     "output_type": "stream",
     "text": [
      "Type an adjective\n"
     ]
    },
    {
     "name": "stdin",
     "output_type": "stream",
     "text": [
      " grand\n"
     ]
    },
    {
     "name": "stdout",
     "output_type": "stream",
     "text": [
      "Type an adjective\n"
     ]
    },
    {
     "name": "stdin",
     "output_type": "stream",
     "text": [
      " big\n"
     ]
    },
    {
     "name": "stdout",
     "output_type": "stream",
     "text": [
      "Type a noun\n"
     ]
    },
    {
     "name": "stdin",
     "output_type": "stream",
     "text": [
      " child\n"
     ]
    },
    {
     "name": "stdout",
     "output_type": "stream",
     "text": [
      "Type an adjective\n"
     ]
    },
    {
     "name": "stdin",
     "output_type": "stream",
     "text": [
      " small\n"
     ]
    },
    {
     "name": "stdout",
     "output_type": "stream",
     "text": [
      "Type an adjective\n"
     ]
    },
    {
     "name": "stdin",
     "output_type": "stream",
     "text": [
      " petite\n"
     ]
    },
    {
     "name": "stdout",
     "output_type": "stream",
     "text": [
      "Type a noun\n"
     ]
    },
    {
     "name": "stdin",
     "output_type": "stream",
     "text": [
      " adult\n"
     ]
    },
    {
     "name": "stdout",
     "output_type": "stream",
     "text": [
      "Walking through the jungle I drink from my 'great' canteen. There's a 'grand' parrot - I gaze at his 'big' 'child'. There's a 'small' panther, a 'petite' lion, and a 'adult' next to me! BYE.\n"
     ]
    }
   ],
   "source": [
    "print (\"Type an adjective\",) \n",
    "adj1 = input()\n",
    "\n",
    "print (\"Type an adjective\",) \n",
    "adj2 = input()\n",
    "\n",
    "print (\"Type an adjective\",) \n",
    "adj3 = input()\n",
    "\n",
    "print (\"Type a noun\",) \n",
    "noun1 = input()\n",
    "\n",
    "print (\"Type an adjective\",) \n",
    "adj4 = input()\n",
    "\n",
    "print (\"Type an adjective\",) \n",
    "adj5 = input()\n",
    "\n",
    "print (\"Type a noun\",) \n",
    "noun2 = input()\n",
    "\n",
    "print (\"Walking through the jungle I drink from my %r canteen. There's a %r parrot - I gaze at his %r %r. There's a %r panther, a %r lion, and a %r next to me! BYE.\" % (adj1, adj2, adj3, noun1, adj4, adj5, noun2))"
   ]
  },
  {
   "cell_type": "code",
   "execution_count": 6,
   "metadata": {},
   "outputs": [
    {
     "name": "stdout",
     "output_type": "stream",
     "text": [
      "Type a verb\n"
     ]
    },
    {
     "name": "stdin",
     "output_type": "stream",
     "text": [
      " run\n"
     ]
    },
    {
     "name": "stdout",
     "output_type": "stream",
     "text": [
      "Type a body part that's plural\n"
     ]
    },
    {
     "name": "stdin",
     "output_type": "stream",
     "text": [
      " eyes\n"
     ]
    },
    {
     "name": "stdout",
     "output_type": "stream",
     "text": [
      "Type a body sense\n"
     ]
    },
    {
     "name": "stdin",
     "output_type": "stream",
     "text": [
      " feel\n"
     ]
    },
    {
     "name": "stdout",
     "output_type": "stream",
     "text": [
      "The day I saw the Monkey King 'run' was the best day. I couldn't believe my 'eyes', I had the 'feel' running through my body for an entire week!\n"
     ]
    }
   ],
   "source": [
    "print (\"Type a verb\",) \n",
    "verb = input()\n",
    "\n",
    "print (\"Type a body part that's plural\",) \n",
    "part = input()\n",
    "\n",
    "print (\"Type a body sense\",) \n",
    "body = input()\n",
    "\n",
    "print (\"The day I saw the Monkey King %r was the best day. I couldn't believe my %r, I had the %r running through my body for an entire week!\" % (verb, part, body))"
   ]
  },
  {
   "cell_type": "code",
   "execution_count": 7,
   "metadata": {},
   "outputs": [
    {
     "name": "stdout",
     "output_type": "stream",
     "text": [
      "Type a plural noun\n"
     ]
    },
    {
     "name": "stdin",
     "output_type": "stream",
     "text": [
      " dogs\n"
     ]
    },
    {
     "name": "stdout",
     "output_type": "stream",
     "text": [
      "Type a plural noun\n"
     ]
    },
    {
     "name": "stdin",
     "output_type": "stream",
     "text": [
      " cats\n"
     ]
    },
    {
     "name": "stdout",
     "output_type": "stream",
     "text": [
      "Type a verb\n"
     ]
    },
    {
     "name": "stdin",
     "output_type": "stream",
     "text": [
      " purr\n"
     ]
    },
    {
     "name": "stdout",
     "output_type": "stream",
     "text": [
      "Type a noun\n"
     ]
    },
    {
     "name": "stdin",
     "output_type": "stream",
     "text": [
      " human\n"
     ]
    },
    {
     "name": "stdout",
     "output_type": "stream",
     "text": [
      "I went to the arcade with my 'dogs' to play some games. In XMEN you can be 'cats' and you have to 'purr'. In STARWARS you have to defeat 'human'. THere's so much to do!\n"
     ]
    }
   ],
   "source": [
    "print (\"Type a plural noun\",) \n",
    "noun1 = input()\n",
    "\n",
    "print (\"Type a plural noun\",) \n",
    "noun2 = input()\n",
    "\n",
    "print (\"Type a verb\",) \n",
    "verb = input()\n",
    "\n",
    "print (\"Type a noun\",) \n",
    "noun3 = input()\n",
    "\n",
    "print (\"I went to the arcade with my %r to play some games. In XMEN you can be %r and you have to %r. In STARWARS you have to defeat %r. THere's so much to do!\"%(noun1, noun2, verb, noun3))"
   ]
  },
  {
   "cell_type": "code",
   "execution_count": 8,
   "metadata": {},
   "outputs": [
    {
     "name": "stdout",
     "output_type": "stream",
     "text": [
      "Type a plural animal\n"
     ]
    },
    {
     "name": "stdin",
     "output_type": "stream",
     "text": [
      " fish\n"
     ]
    },
    {
     "name": "stdout",
     "output_type": "stream",
     "text": [
      "Type a noun\n"
     ]
    },
    {
     "name": "stdin",
     "output_type": "stream",
     "text": [
      " church\n"
     ]
    },
    {
     "name": "stdout",
     "output_type": "stream",
     "text": [
      "Type a color that isn't brown\n"
     ]
    },
    {
     "name": "stdin",
     "output_type": "stream",
     "text": [
      " pink\n"
     ]
    },
    {
     "name": "stdout",
     "output_type": "stream",
     "text": [
      "Type a state of being\n"
     ]
    },
    {
     "name": "stdin",
     "output_type": "stream",
     "text": [
      " happy\n"
     ]
    },
    {
     "name": "stdout",
     "output_type": "stream",
     "text": [
      "Type a name\n"
     ]
    },
    {
     "name": "stdin",
     "output_type": "stream",
     "text": [
      " Jessica\n"
     ]
    },
    {
     "name": "stdout",
     "output_type": "stream",
     "text": [
      "I love Easter, but this year's was as weird as 'fish' on 'church'. The chocolate was 'pink', the bunny was 'happy', 'Jessica' almost choked on chocolate!\n"
     ]
    }
   ],
   "source": [
    "print (\"Type a plural animal\",) \n",
    "ani = input()\n",
    "\n",
    "print (\"Type a noun\",) \n",
    "noun = input()\n",
    "\n",
    "print (\"Type a color that isn't brown\",) \n",
    "color = input()\n",
    "\n",
    "print (\"Type a state of being\",) \n",
    "state = input()\n",
    "\n",
    "print (\"Type a name\",) \n",
    "name = input()\n",
    "\n",
    "print (\"I love Easter, but this year's was as weird as %r on %r. The chocolate was %r, the bunny was %r, %r almost choked on chocolate!\"%(ani, noun, color, state, name, ))"
   ]
  },
  {
   "cell_type": "code",
   "execution_count": 9,
   "metadata": {},
   "outputs": [
    {
     "name": "stdout",
     "output_type": "stream",
     "text": [
      "Type a friend's name\n"
     ]
    },
    {
     "name": "stdin",
     "output_type": "stream",
     "text": [
      " Caro\n"
     ]
    },
    {
     "name": "stdout",
     "output_type": "stream",
     "text": [
      "Type a time in the morning\n"
     ]
    },
    {
     "name": "stdin",
     "output_type": "stream",
     "text": [
      " 7\n"
     ]
    },
    {
     "name": "stdout",
     "output_type": "stream",
     "text": [
      "Type a funny name for sleep\n"
     ]
    },
    {
     "name": "stdin",
     "output_type": "stream",
     "text": [
      " death\n"
     ]
    },
    {
     "name": "stdout",
     "output_type": "stream",
     "text": [
      "Type the same friend's name\n"
     ]
    },
    {
     "name": "stdin",
     "output_type": "stream",
     "text": [
      " Caro\n"
     ]
    },
    {
     "name": "stdout",
     "output_type": "stream",
     "text": [
      "Type a word for getting up quickly\n"
     ]
    },
    {
     "name": "stdin",
     "output_type": "stream",
     "text": [
      " rush\n"
     ]
    },
    {
     "name": "stdout",
     "output_type": "stream",
     "text": [
      "One day, 'Caro' woke me up at '7'. It was the end of summer and I was trying to catch up on my 'death'. 'Caro' said 'YOURE LATE FOR SCHOOL LETS GO!' I 'rush' and it turns out, it was just the last day of summer.\n"
     ]
    }
   ],
   "source": [
    "print (\"Type a friend's name\",) \n",
    "fri = input()\n",
    "\n",
    "print (\"Type a time in the morning\",) \n",
    "time = input()\n",
    "\n",
    "print (\"Type a funny name for sleep\",) \n",
    "sleep = input()\n",
    "\n",
    "print (\"Type the same friend's name\",) \n",
    "fri2 = input()\n",
    "\n",
    "print (\"Type a word for getting up quickly\",) \n",
    "up = input()\n",
    "\n",
    "print (\"One day, %r woke me up at %r. It was the end of summer and I was trying to catch up on my %r. %r said 'YOURE LATE FOR SCHOOL LETS GO!' I %r and it turns out, it was just the last day of summer.\" % (fri, time, sleep, fri2, up))"
   ]
  },
  {
   "cell_type": "code",
   "execution_count": 10,
   "metadata": {},
   "outputs": [
    {
     "name": "stdout",
     "output_type": "stream",
     "text": [
      "Type an exclamation\n"
     ]
    },
    {
     "name": "stdin",
     "output_type": "stream",
     "text": [
      " wow\n"
     ]
    },
    {
     "name": "stdout",
     "output_type": "stream",
     "text": [
      "Type a sound\n"
     ]
    },
    {
     "name": "stdin",
     "output_type": "stream",
     "text": [
      " thunk\n"
     ]
    },
    {
     "name": "stdout",
     "output_type": "stream",
     "text": [
      "Type an adjective\n"
     ]
    },
    {
     "name": "stdin",
     "output_type": "stream",
     "text": [
      " smooth\n"
     ]
    },
    {
     "name": "stdout",
     "output_type": "stream",
     "text": [
      "Type a noun\n"
     ]
    },
    {
     "name": "stdin",
     "output_type": "stream",
     "text": [
      " turtle\n"
     ]
    },
    {
     "name": "stdout",
     "output_type": "stream",
     "text": [
      "Type a month\n"
     ]
    },
    {
     "name": "stdin",
     "output_type": "stream",
     "text": [
      " june\n"
     ]
    },
    {
     "name": "stdout",
     "output_type": "stream",
     "text": [
      "There's a new toy that has everyone saying 'wow'! It's called the 'thunk' 'smooth' 'turtle' box and is set to come out in 'june', how fun!\n"
     ]
    }
   ],
   "source": [
    "print (\"Type an exclamation\",) \n",
    "ex = input()\n",
    "\n",
    "print (\"Type a sound\",) \n",
    "sea = input()\n",
    "\n",
    "print (\"Type an adjective\",) \n",
    "adj = input()\n",
    "\n",
    "print (\"Type a noun\",) \n",
    "non = input()\n",
    "\n",
    "print (\"Type a month\",) \n",
    "mon = input()\n",
    "\n",
    "print (\"There's a new toy that has everyone saying %r! It's called the %r %r %r box and is set to come out in %r, how fun!\" % (ex, sea, adj, non, mon))"
   ]
  },
  {
   "cell_type": "code",
   "execution_count": null,
   "metadata": {},
   "outputs": [],
   "source": []
  }
 ],
 "metadata": {
  "kernelspec": {
   "display_name": "Python 3",
   "language": "python",
   "name": "python3"
  },
  "language_info": {
   "codemirror_mode": {
    "name": "ipython",
    "version": 3
   },
   "file_extension": ".py",
   "mimetype": "text/x-python",
   "name": "python",
   "nbconvert_exporter": "python",
   "pygments_lexer": "ipython3",
   "version": "3.6.5"
  }
 },
 "nbformat": 4,
 "nbformat_minor": 2
}
